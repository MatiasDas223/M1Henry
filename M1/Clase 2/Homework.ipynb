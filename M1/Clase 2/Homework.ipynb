{
 "cells": [
  {
   "cell_type": "markdown",
   "metadata": {},
   "source": [
    "# Práctica Clase 2"
   ]
  },
  {
   "cell_type": "markdown",
   "metadata": {},
   "source": [
    "1) Abrir el archivo \"Emisiones_CO2.csv\" y cargar sus datos en un diccionario."
   ]
  },
  {
   "cell_type": "code",
   "execution_count": 32,
   "metadata": {},
   "outputs": [],
   "source": [
    "import os\n",
    "archivo = open('Emisiones_CO2.csv', 'r') \n",
    "\n",
    "dicc_emisiones = {  'cod_pais' : [],\n",
    "                    'nom_pais' : [],\n",
    "                    'region' : [],\n",
    "                    'anio' : [],\n",
    "                    'co2' : [],\n",
    "                    'co2_percapita' : []}"
   ]
  },
  {
   "cell_type": "code",
   "execution_count": 45,
   "metadata": {},
   "outputs": [],
   "source": [
    "dicc_emisiones = {  'cod_pais' : [],\n",
    "                    'nom_pais' : [],\n",
    "                    'region' : [],\n",
    "                    'anio' : [],\n",
    "                    'co2' : [],\n",
    "                    'co2_percapita' : []}\n",
    "\n",
    "with open('Emisiones_CO2.csv', 'r') as archivo:\n",
    "    next(archivo)\n",
    "    for row in archivo:\n",
    "        row = row.rstrip()\n",
    "        lista = row.split('|')\n",
    "        dicc_emisiones['cod_pais'].append(lista[0])\n",
    "        dicc_emisiones['nom_pais'].append(lista[1])\n",
    "        dicc_emisiones['region'].append(lista[2])\n",
    "        dicc_emisiones['anio'].append(lista[3])\n",
    "        dicc_emisiones['co2'].append(lista[4])\n",
    "        dicc_emisiones['co2_percapita'].append(lista[5])\n",
    "\n",
    "    for i in range (len(dicc_emisiones['cod_pais'])):\n",
    "        if dicc_emisiones['co2'][i]:\n",
    "            elemento = dicc_emisiones['co2'][i]\n",
    "            elemento = float(elemento.replace('.','').replace(',','.'))\n",
    "            dicc_emisiones['co2'][i] = elemento\n",
    "        else:\n",
    "            dicc_emisiones['co2'][i] = None\n",
    "    \n",
    "    for i in range (len(dicc_emisiones['cod_pais'])):\n",
    "        if dicc_emisiones['co2_percapita'][i]:\n",
    "            elemento = dicc_emisiones['co2_percapita'][i]\n",
    "            elemento = float(elemento.replace('.','').replace(',','.'))\n",
    "            dicc_emisiones['co2_percapita'][i] = elemento\n",
    "        else:\n",
    "            dicc_emisiones['co2_percapita'][i] = None\n",
    "    \n"
   ]
  },
  {
   "attachments": {},
   "cell_type": "markdown",
   "metadata": {},
   "source": [
    "e) ¿Cuál es el total de emisiones de CO2 para 'América Latina y Caribe' en el año 2010?"
   ]
  },
  {
   "cell_type": "code",
   "execution_count": 46,
   "metadata": {},
   "outputs": [],
   "source": [
    "emision = 0 \n",
    "\n",
    "for i in range(len(dicc_emisiones['cod_pais'])):\n",
    "    if dicc_emisiones['co2'][i]:\n",
    "        if dicc_emisiones['region'][i] == 'América Latina y Caribe' and dicc_emisiones['anio'][i] == '2010':\n",
    "            emision += dicc_emisiones['co2'][i]\n"
   ]
  },
  {
   "cell_type": "code",
   "execution_count": 47,
   "metadata": {},
   "outputs": [
    {
     "data": {
      "text/plain": [
       "1691634.8009999995"
      ]
     },
     "execution_count": 47,
     "metadata": {},
     "output_type": "execute_result"
    }
   ],
   "source": [
    "emision"
   ]
  },
  {
   "attachments": {},
   "cell_type": "markdown",
   "metadata": {},
   "source": [
    "2) a) ¿Cuántas variables hay? <br> 6 Variables en total\n",
    "b) ¿Qué tipos de datos usar para cada una? <br> Codigo de Pais: STR Nombre del Pais: STR, Region: STR, Año: STR, CO2 kt: float, CO2 per capita float.\n",
    "c) ¿Qué tipo de variables son? <br>Codigo de Pais: Categorica, Nombre del Pais: Categorica, Region: Categorica, Año: Categorica, CO2 kt: Cuantitativa continua, CO2 per capita Cuantitativa continua.\n",
    "d) ¿Hay valores faltantes? <br>\n",
    "e) ¿Cuál es el total de emisiones de CO2 para 'América Latina y Caribe' en el año 2010?"
   ]
  }
 ],
 "metadata": {
  "interpreter": {
   "hash": "c85384e4cb51c8b72350f3a8712cc8351fdc3955e32a27f9b60c6242ab125f01"
  },
  "kernelspec": {
   "display_name": "Python 3.9.7 ('henry')",
   "language": "python",
   "name": "python3"
  },
  "language_info": {
   "codemirror_mode": {
    "name": "ipython",
    "version": 3
   },
   "file_extension": ".py",
   "mimetype": "text/x-python",
   "name": "python",
   "nbconvert_exporter": "python",
   "pygments_lexer": "ipython3",
   "version": "3.11.1"
  },
  "orig_nbformat": 4
 },
 "nbformat": 4,
 "nbformat_minor": 2
}
