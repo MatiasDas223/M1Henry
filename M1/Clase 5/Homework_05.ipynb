{
 "cells": [
  {
   "cell_type": "markdown",
   "metadata": {},
   "source": [
    "# Práctica Clase 5"
   ]
  },
  {
   "cell_type": "markdown",
   "metadata": {},
   "source": [
    "1) Implementar un juego, que consista en apilar números enteros del 1 al 20, de forma aleatoria, para lo cual debe usarse una estructura de Pila. \n",
    "Luego, el usuario debe elegir un número de veces en que se va a quitar elementos de la pila, los cuales, sumados entre sí, no deben superar el valor de 50.\n",
    "El usuario pierde si la suma supera ese valor. Si no lo supera, gana, pero su calificación será 10 menos el número elementos que falten quitar para todavía no superar 50.\n",
    "El programa debe informar si perdió, y si ganó, con qué calificación lo hizo.\n",
    "\n",
    "Consideraciones:<br>\n",
    "a. Se puede usar la función input() para obtener una entrada de teclado.<br>\n",
    "b. Se puede usar la el modulo random para obtener valores aleatorios."
   ]
  },
  {
   "cell_type": "code",
   "execution_count": 89,
   "metadata": {},
   "outputs": [],
   "source": [
    "import numpy as np\n",
    "\n",
    "class juego:\n",
    "\n",
    "    def __init__(self):\n",
    "\n",
    "        self.acumulado = 0\n",
    "        self.lista = np.arange(1,21)\n",
    "\n",
    "    def generarLista(self):\n",
    "        np.random.shuffle(self.lista)\n",
    "        self.lista = list(self.lista)\n",
    "\n",
    "    def JuegoNuevo(self):\n",
    "        self.generarLista()\n",
    "        lista_original = list(self.lista)\n",
    "        R = 'y'\n",
    "        count = 0\n",
    "        valores = []\n",
    "        while R =='y':\n",
    "            X = self.lista.pop()\n",
    "            valores.append(X) \n",
    "            self.acumulado += X\n",
    "            print('Retiraste el numero', X)\n",
    "            if self.acumulado > 50:\n",
    "                print('La suma supero los 50 puntos, perdiste boludin')    \n",
    "                break\n",
    "            print('El total acumulado es ', self.acumulado, '¿Quiere sacar otro numero?')\n",
    "            R = input('Y/N').lower()\n",
    "            if R == 'n':\n",
    "                break\n",
    "            X = self.lista.pop()\n",
    "        while self.acumulado < 50:\n",
    "            X = self.lista.pop()\n",
    "            self.acumulado += X\n",
    "            if self.acumulado < 50:\n",
    "                count += 1\n",
    "                continue\n",
    "        print('La lista original era: ')\n",
    "        print(lista_original)\n",
    "        print('Sacaste los siguientes valores:')\n",
    "        print(valores)\n",
    "        print('Tu puntaje total fue de ', 10-count )\n",
    "    \n",
    "            \n",
    "\n"
   ]
  },
  {
   "cell_type": "code",
   "execution_count": 90,
   "metadata": {},
   "outputs": [
    {
     "name": "stdout",
     "output_type": "stream",
     "text": [
      "Retiraste el numero 4\n",
      "El total acumulado es  4 ¿Quiere sacar otro numero?\n",
      "Retiraste el numero 14\n",
      "El total acumulado es  18 ¿Quiere sacar otro numero?\n",
      "Retiraste el numero 10\n",
      "El total acumulado es  28 ¿Quiere sacar otro numero?\n",
      "Retiraste el numero 2\n",
      "El total acumulado es  30 ¿Quiere sacar otro numero?\n",
      "Retiraste el numero 18\n",
      "El total acumulado es  48 ¿Quiere sacar otro numero?\n",
      "La lista original era: \n",
      "[15, 1, 5, 7, 11, 6, 20, 16, 3, 19, 13, 18, 12, 2, 17, 10, 9, 14, 8, 4]\n",
      "Sacaste los siguientes valores:\n",
      "[4, 14, 10, 2, 18]\n",
      "Tu puntaje total fue de  10\n"
     ]
    }
   ],
   "source": [
    "juego().JuegoNuevo()"
   ]
  },
  {
   "cell_type": "markdown",
   "metadata": {},
   "source": [
    "2) Implementar un juego donde constas de 2 jarras, de capacidad 5 y 3 litros respectivamente, y debes colocar 4 litros en la jarra de 5L.\n",
    "Las opciones posibles son:\n",
    "* Llenar la jarra de 3 litros\n",
    "* Llenar la jarra de 5 litros\n",
    "* Vaciar la jarra de 3 litros\n",
    "* Vaciar la jarra de 5 litros\n",
    "* Verter el contenido de la jarra de 3 litros en la de 5 litros\n",
    "* Verter el contenido de la jarra de 5 litros en la de 3 litros"
   ]
  },
  {
   "cell_type": "code",
   "execution_count": 88,
   "metadata": {},
   "outputs": [
    {
     "name": "stdout",
     "output_type": "stream",
     "text": [
      "y\n"
     ]
    }
   ],
   "source": [
    "R = 'Y'\n",
    "print(R.lower())\n"
   ]
  }
 ],
 "metadata": {
  "kernelspec": {
   "display_name": "Python 3",
   "language": "python",
   "name": "python3"
  },
  "language_info": {
   "codemirror_mode": {
    "name": "ipython",
    "version": 3
   },
   "file_extension": ".py",
   "mimetype": "text/x-python",
   "name": "python",
   "nbconvert_exporter": "python",
   "pygments_lexer": "ipython3",
   "version": "3.11.1"
  }
 },
 "nbformat": 4,
 "nbformat_minor": 4
}
