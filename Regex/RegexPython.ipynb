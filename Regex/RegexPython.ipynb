{
 "cells": [
  {
   "cell_type": "markdown",
   "metadata": {},
   "source": [
    "# Expresiones Regulares con Python"
   ]
  },
  {
   "cell_type": "markdown",
   "metadata": {},
   "source": [
    "<img alt=\"Expresiones regulares\" title=\"Expresiones regulares\" src=\"http://relopezbriega.github.io/images/regex.png\" width=\"700\">"
   ]
  },
  {
   "attachments": {},
   "cell_type": "markdown",
   "metadata": {},
   "source": [
    "## Introducción\n",
    "\n",
    "Uno de los problemas más comunes con que nos solemos encontrar al desarrollar cualquier programa informático, es el de procesamiento de texto. Esta tarea puede resultar bastante trivial para el cerebro humano, ya que nosotros podemos detectar con facilidad que es un número y que una letra, o cuales son palabras que cumplen con un determinado patrón y cuales no; pero estas mismas tareas no son tan fáciles para una computadora. Es por esto, que el procesamiento de texto siempre ha sido uno de los temas más relevantes en las ciencias de la computación. Luego de varias décadas de investigación se logró desarrollar un poderoso y versátil lenguaje que cualquier computadora puede utilizar para reconocer patrones de texto; este lenguale es lo que hoy en día se conoce con el nombre de expresiones regulares; las operaciones de validación, búsqueda, extracción y sustitución de texto ahora son tareas mucho más sencillas para las computadoras gracias a las expresiones regulares. <br>\n",
    "\n",
    "## ¿Qué son las Expresiones Regulares?\n",
    "\n",
    "Las **expresiones regulares** a menudo llamada también **regex**, son unas secuencias de caracteres que forma un patrón de búsqueda, las cuales son formalizadas por medio de una sintaxis específica. Los patrones se interpretan como un conjunto de instrucciones, que luego se ejecutan sobre un texto de entrada para producir un subconjunto o una versión modificada del texto original. Las expresiones regulares pueden incluir patrones de coincidencia literal, de repetición, de composición, de ramificación, y otras sofisticadas reglas de reconocimiento de texto . Las expresiones regulares deberían formar parte del arsenal de cualquier buen programador ya que un gran número de problemas de procesamiento de texto pueden ser fácilmente resueltos con ellas.\n",
    "\n",
    "## Expresiones Regulares en Python\n",
    "\n",
    "En los paquetes estandar de **Python**  podemos encontrar el módulo [re](https://docs.python.org/3/library/re.html), el cual nos proporciona todas las operaciones necesarias para trabajar con las **expresiones regulares**. \n",
    "\n",
    "Por lo tanto para comenzar a utilizarlo, en primer lugar lo que debemos hacer es importar el modulo `re` con `import re`.\n",
    "\n",
    "## Componentes de las Expresiones Regulares\n",
    "\n",
    "Las expresiones regulares son un mini lenguaje en sí mismo, por lo que para poder utilizarlas eficientemente primero debemos entender los componentes de su sintaxis; ellos son:\n",
    "\n",
    "* **Literales**: Cualquier caracter se encuentra a sí mismo, a menos que se trate de un ***metacaracter*** con significado especial. Una serie de caracteres encuentra esa misma serie en el texto de entrada, por lo tanto la plantilla \"raul\" encontrará todas las apariciones de \"raul\" en el texto que procesamos.\n",
    "\n",
    "* **Secuencias de escape**: La sintaxis de las expresiones regulares nos permite utilizar las *[secuencias de escape](https://msdn.microsoft.com/es-es/library/h21280bw.aspx)* que ya conocemos de otros lenguajes de programación para esos casos especiales como ser finales de línea, tabs, barras diagonales, etc. Las principales *secuencias de escape* que podemos encontrar, son:\n",
    "\n",
    "Secuencia de escape | Significado\n",
    "---|---\n",
    "\\n | Nueva línea (new line). El cursor pasa a la primera posición de la línea siguiente.\n",
    "\\t | Tabulador. El cursor pasa a la siguiente posición de tabulación. \n",
    "\\\\\\ | Barra diagonal inversa\n",
    "\\v | Tabulación vertical.\n",
    "\\ooo | Carácter ASCII en notación octal.\n",
    "\\xhh | Carácter ASCII en notación hexadecimal.\n",
    "\\xhhhh | Carácter Unicode en notación hexadecimal. \n",
    "\n",
    "* **Clases de caracteres**: Se pueden especificar clases de caracteres encerrando una lista de caracteres entre corchetes [], la que que encontrará uno cualquiera de los caracteres de la lista. Si el primer símbolo después del \"[\" es \"^\", la clase encuentra cualquier caracter que no está en la lista.\n",
    "\n",
    "* **Metacaracteres**: Los metacaracteres son caracteres especiales que son la esencia de las expresiones regulares. Como son sumamente importantes para entender la sintaxis de las expresiones regulares y existen diferentes tipos, voy a dedicar una sección a explicarlos un poco más en detalle."
   ]
  },
  {
   "attachments": {},
   "cell_type": "markdown",
   "metadata": {},
   "source": [
    "## Metacaracteres\n",
    "\n",
    "### Metacaracteres - delimitadores\n",
    "\n",
    "Esta clase de metacaracteres nos permite delimitar dónde queremos buscar los patrones de búsqueda. Ellos son:\n",
    "\n",
    "Metacaracter | Descripción\n",
    "---|---\n",
    "^ | inicio de línea. \n",
    "$ | fin de línea. \n",
    "\\A | inicio de texto. \n",
    "\\Z | fin de texto. \n",
    ". | cualquier caracter en la línea. \n",
    "\\b | encuentra límite de palabra. \n",
    "\\B | encuentra distinto a límite de palabra."
   ]
  },
  {
   "attachments": {},
   "cell_type": "markdown",
   "metadata": {},
   "source": [
    "**Ejemplo: Inicio y fin de línea: `^`, `$`**\n",
    "\n",
    "Los símbolos de acento circunflejo `^` y dólar `$` indican que nuestro patrón de búsqueda debe contener respectivamente el inicio o fin de una línea en una cadena de texto. En el siguiente ejemplo, la expresión regular `^Python` busca ocurrencias de la cadena Python al inicio de la línea, y por eso el método `findall()` devuelve sólo una ocurrencia a pesar de que la frase contenga dos veces la cadena `Python`.<br>\n"
   ]
  },
  {
   "cell_type": "code",
   "execution_count": 1,
   "metadata": {},
   "outputs": [
    {
     "data": {
      "text/plain": [
       "['Python']"
      ]
     },
     "execution_count": 1,
     "metadata": {},
     "output_type": "execute_result"
    }
   ],
   "source": [
    "import re\n",
    "frase = \"Python no sólo es un lenguaje de programación, Python es mi lenguaje de programacón favorito.\"\n",
    "patron = '^Python'\n",
    "re.findall(patron, frase)"
   ]
  },
  {
   "cell_type": "code",
   "execution_count": 2,
   "metadata": {},
   "outputs": [
    {
     "data": {
      "text/plain": [
       "['Python']"
      ]
     },
     "execution_count": 2,
     "metadata": {},
     "output_type": "execute_result"
    }
   ],
   "source": [
    "frase = \"Me gusta aprender Python y programar en Python\"\n",
    "patron = 'Python$'\n",
    "re.findall(patron, frase)"
   ]
  },
  {
   "attachments": {},
   "cell_type": "markdown",
   "metadata": {},
   "source": [
    "### Metacaracteres - clases predefinidas\n",
    "\n",
    "Estas son clases predefinidas que nos facilitan la utilización de las **expresiones regulares**. Ellos son:\n",
    "\n",
    "Metacaracter | Descripción\n",
    "---|---\n",
    "\\w |    un caracter alfanumérico (incluye \"_\"). \n",
    "\\W |    un caracter no alfanumérico. \n",
    "\\d |    un caracter numérico. \n",
    "\\D |    un caracter no numérico. \n",
    "\\s |    cualquier espacio (lo mismo que [ \\t\\n\\r\\f]).\n",
    "\\S |    un no espacio."
   ]
  },
  {
   "attachments": {},
   "cell_type": "markdown",
   "metadata": {},
   "source": [
    "**Ejemplo Coincidencia de caracteres: `.`, `\\s`, `\\S`**\n",
    "\n",
    "Los símbolos `.`, `\\s` y `\\S` indican respectivamente cualquier carácter, espacio en blanco y cualquier carácter a excepción del espacio en blanco. En el siguiente ejemplo, `^.ython` busca al principio de la línea `^` cualquier carácter `.` seguido por la cadena `ython`. Es decir, palabras como Aython, Bython, Cython, etc. a principio de línea se interpretan como una coincidencia. Sin embargo, la expresión regular `\\s.ython` empareja en la frase de ejemplo con `‘ Nython’` y `‘ Python’`, ya que esta expresión regular busca un espacio en blanco al principio de la ocurrencia.<br>"
   ]
  },
  {
   "cell_type": "code",
   "execution_count": 4,
   "metadata": {},
   "outputs": [
    {
     "data": {
      "text/plain": [
       "['Cython']"
      ]
     },
     "execution_count": 4,
     "metadata": {},
     "output_type": "execute_result"
    }
   ],
   "source": [
    "import re\n",
    "frase = \"Cython no es ningún lenguaje de programación y Nython tampoco pero Python sí\"\n",
    "patron = '^.ython'\n",
    "palabras = re.findall(patron, frase)\n",
    "palabras"
   ]
  },
  {
   "cell_type": "code",
   "execution_count": 5,
   "metadata": {},
   "outputs": [
    {
     "data": {
      "text/plain": [
       "[' Nython', ' Python']"
      ]
     },
     "execution_count": 5,
     "metadata": {},
     "output_type": "execute_result"
    }
   ],
   "source": [
    "patron = '\\\\s.ython'\n",
    "palabras = re.findall(patron, frase)\n",
    "palabras"
   ]
  },
  {
   "attachments": {},
   "cell_type": "markdown",
   "metadata": {},
   "source": [
    "\n",
    "### Metacaracteres - iteradores \n",
    "\n",
    "Cualquier elemento de una **expresion regular** puede ser seguido por otro tipo de metacaracteres, los *iteradores*. Usando estos metacaracteres se puede especificar el número de ocurrencias del caracter previo, de un metacaracter o de una subexpresión. Ellos son:\n",
    "\n",
    "Metacaracter | Descripción\n",
    "---|---\n",
    "`*`  |    cero o más, similar a {0,}. \n",
    "`+`  |    una o más, similar a {1,}. \n",
    "?   |   cero o una, similar a {0,1}.\n",
    "{n}  |  exactamente n veces. \n",
    "{n,}  | por lo menos n veces. \n",
    "{n,m} | por lo menos n pero no más de m veces.\n",
    "*?  |   cero o más, similar a {0,}?. \n",
    "+?   |  una o más, similar a {1,}?.\n",
    "??    | cero o una, similar a {0,1}?. \n",
    "{n}? |  exactamente n veces.\n",
    "{n,}?  |por lo menos n veces. \n",
    "{n,m}? |por lo menos n pero no más de m veces.\n",
    "\n",
    "En estos metacaracteres, los dígitos entre llaves de la forma {n,m}, especifican el mínimo número de ocurrencias en n y el máximo en m. \n"
   ]
  },
  {
   "attachments": {},
   "cell_type": "markdown",
   "metadata": {},
   "source": [
    "**Ejemplo Caracteres de repetición: `*`, `+`, `?`**\n",
    "\n",
    "Estos tres caracteres tienen el siguiente significado:\n",
    "\n",
    "- `*` : indica la repetición de un carácter cero o más veces.\n",
    "- `+` : indica la repetición de un carácter una o más veces.\n",
    "- `?` : Es el carácter reluctant o cuantificador reacio. Añadido a cualquiera de los anteriores se contará con la ocurrencia más corta posible.<br>\n",
    "El siguiente ejemplo ilustra el uso del cuantificador reacio. El primer patrón: `.+n`, busca cualquier repetición de caracteres que termine en `n`. Como la última palabra de la frase termina en `n`, el resultado de la búsqueda retorna la frase entera. Sin embargo, al añadir el cuantificador reacio al patrón: `.+?n` el resultado de la búsqueda resulta más restrictiva ya que ésta contiene todas las secuencias de caracteres terminadas en `n`."
   ]
  },
  {
   "cell_type": "code",
   "execution_count": 6,
   "metadata": {},
   "outputs": [
    {
     "data": {
      "text/plain": [
       "['Ramón y Román programan en Python']"
      ]
     },
     "execution_count": 6,
     "metadata": {},
     "output_type": "execute_result"
    }
   ],
   "source": [
    "import re\n",
    "frase = \"Ramón y Román programan en Python\"\n",
    "patron = '.+n'\n",
    "re.findall(patron, frase)"
   ]
  },
  {
   "cell_type": "code",
   "execution_count": 7,
   "metadata": {},
   "outputs": [
    {
     "data": {
      "text/plain": [
       "['Ramón', ' y Román', ' programan', ' en', ' Python']"
      ]
     },
     "execution_count": 7,
     "metadata": {},
     "output_type": "execute_result"
    }
   ],
   "source": [
    "patron = '.+?n'\n",
    "re.findall(patron, frase)"
   ]
  },
  {
   "attachments": {},
   "cell_type": "markdown",
   "metadata": {},
   "source": [
    "### Metacaracteres - alternativas \n",
    "\n",
    "Conjunto de caracteres: `[]`, `[^]`\n",
    "Encerrando un conjunto de caracteres entre corchetes `[]` indica cualquiera de los caracteres especificados. Así, el patrón `[abc]` coincidiría con las secuencias `a`, `b` o `c`. El siguiente ejemplo ilustra el uso de los corchetes. En él podemos ver que patrón `[CN]ython` no encuentra coincidencia con la secuencia `Python` de la frase, ya que `P` no está dentro de los corchetes."
   ]
  },
  {
   "cell_type": "code",
   "execution_count": 8,
   "metadata": {},
   "outputs": [
    {
     "data": {
      "text/plain": [
       "['Cython', 'Nython']"
      ]
     },
     "execution_count": 8,
     "metadata": {},
     "output_type": "execute_result"
    }
   ],
   "source": [
    "import re\n",
    "frase = \"Cython no es ningún lenguaje de programación y Nython tampoco pero Python sí\"\n",
    "patron = '[CN]ython'\n",
    "re.findall(patron, frase)"
   ]
  },
  {
   "attachments": {},
   "cell_type": "markdown",
   "metadata": {},
   "source": [
    "El acento circunflejo `^` al principio de la secuencia entre corchetes se utiliza para indicar negación. Es decir la no coincidencia con los caracteres especificados. Un ejemplo de uso puede ser la separación de las palabras de una frase excluyendo sus signos de puntuación."
   ]
  },
  {
   "cell_type": "code",
   "execution_count": 9,
   "metadata": {},
   "outputs": [
    {
     "data": {
      "text/plain": [
       "['Esto',\n",
       " 'es',\n",
       " 'una',\n",
       " 'frase',\n",
       " 'Además',\n",
       " 'contiene',\n",
       " 'signos',\n",
       " 'de',\n",
       " 'puntuación',\n",
       " 'Los',\n",
       " 'eliminamos']"
      ]
     },
     "execution_count": 9,
     "metadata": {},
     "output_type": "execute_result"
    }
   ],
   "source": [
    "import re\n",
    "frase = \"¡Esto es una frase! Además contiene signos de puntuación. ¿Los eliminamos?\"\n",
    "patron = '[^¡!.¿? ]+'\n",
    "re.findall(patron, frase)\n"
   ]
  },
  {
   "attachments": {},
   "cell_type": "markdown",
   "metadata": {},
   "source": [
    "**Rangos de caracteres: [a-z]**\n",
    "\n",
    "Dentro de los conjuntos de caracteres también podemos especificar rangos añadiendo un guión a la secuencia. Algunos ejemplos de uso son los siguientes:\n",
    "\n",
    "- [a-z]+ : indica una secuencia de letras minúsculas.\n",
    "- [A-Z]+ : se usa para encontrar secuencias de letras mayúsculas.\n",
    "- [a-zA-Z]+ : es para secuencias de letras mayúsculas o minúsculas.\n",
    "- [A-Z][a-z]+ : secuencias de una letra mayúscula seguida de una o más letras mayúsculas.\n",
    "- [0-9]+ : para secuencias de números de uno o más dígitos."
   ]
  },
  {
   "cell_type": "code",
   "execution_count": 10,
   "metadata": {},
   "outputs": [
    {
     "data": {
      "text/plain": [
       "['2', '15', '11']"
      ]
     },
     "execution_count": 10,
     "metadata": {},
     "output_type": "execute_result"
    }
   ],
   "source": [
    "import re\n",
    "frase = \"Tengo 2 hijos que tienen 15 y 11 años\"\n",
    "patron = '[0-9]+'\n",
    "re.findall(patron, frase)"
   ]
  },
  {
   "attachments": {},
   "cell_type": "markdown",
   "metadata": {},
   "source": [
    "**Inicio y fin de la extracción: `()`**\n",
    "\n",
    "Los paréntesis `( )` no forman parte del patrón a comprobar, pero indican respectivamente dónde empieza y termina la extracción del texto. Un caso de uso es la extracción de dominios en direcciones de correo electrónico. Esta operación la podemos realizar mediante el patrón: `@([^ ]*)` En este caso sabemos que el dominio viene después de un símbolo de arroba `@` que indicamos en nuestra expresión regular, seguido de una condición cerrada entre paréntesis ya que no queremos que el resultado contenga arrobas."
   ]
  },
  {
   "cell_type": "code",
   "execution_count": 11,
   "metadata": {},
   "outputs": [
    {
     "data": {
      "text/plain": [
       "['dominio.tld', 'dominio.com']"
      ]
     },
     "execution_count": 11,
     "metadata": {},
     "output_type": "execute_result"
    }
   ],
   "source": [
    "import re\n",
    "frase = \"Tengo dos correos electrónicos que son nombre.apellido@dominio.tld y nombre@dominio.com\"\n",
    "patron = '@([^ ]*)'\n",
    "re.findall(patron, frase)"
   ]
  },
  {
   "attachments": {},
   "cell_type": "markdown",
   "metadata": {},
   "source": [
    "**Alternativa `|`**\n",
    "\n",
    "Se puede especificar una serie de alternativas para una plantilla usando `|` para separarlas, entonces `do|re|mi` encontrará cualquier `do`, `re`, o `mi` en el texto de entrada. Las alternativas son evaluadas de izquierda a derecha, por lo tanto la primera alternativa que coincide plenamente con la expresión analizada es la que se selecciona. Por ejemplo: si se buscan foo|foot en \"barefoot'', sólo la parte \"foo\" da resultado positivo, porque es la primera alternativa probada, y porque tiene éxito en la búsqueda de la cadena analizada. "
   ]
  },
  {
   "cell_type": "code",
   "execution_count": 25,
   "metadata": {},
   "outputs": [
    {
     "data": {
      "text/plain": [
       "['bar', 'foo']"
      ]
     },
     "execution_count": 25,
     "metadata": {},
     "output_type": "execute_result"
    }
   ],
   "source": [
    "import re\n",
    "patron = r'foo(bar|foo)'\n",
    "text = 'foobarfoofoofoo'\n",
    "re.findall(patron, text)"
   ]
  },
  {
   "attachments": {},
   "cell_type": "markdown",
   "metadata": {},
   "source": [
    "### Metacaracteres - subexpresiones \n",
    "\n",
    "La construcción ( ... ) también puede ser empleada para definir subexpresiones de **expresiones regulares**. \n",
    "\n",
    "**Ejemplos**: \n",
    "\n",
    "(foobar){8,10} --> encuentra cadenas que contienen 8, 9 o 10 instancias de 'foobar' "
   ]
  },
  {
   "cell_type": "code",
   "execution_count": 26,
   "metadata": {},
   "outputs": [
    {
     "data": {
      "text/plain": [
       "['foobar']"
      ]
     },
     "execution_count": 26,
     "metadata": {},
     "output_type": "execute_result"
    }
   ],
   "source": [
    "import re\n",
    "patron = r'(foobar){8,10}'\n",
    "text = 'foobarfoobarfoobarfoobarfoobarfoobarfoobarfoobarfoobar'\n",
    "re.findall(patron, text)"
   ]
  },
  {
   "attachments": {},
   "cell_type": "markdown",
   "metadata": {},
   "source": [
    "foob([0-9]|a+)r --> encuentra 'foob0r', 'foob1r' , 'foobar', 'foobaar', 'foobaar' etc. "
   ]
  },
  {
   "cell_type": "code",
   "execution_count": 27,
   "metadata": {},
   "outputs": [
    {
     "data": {
      "text/plain": [
       "['0', '1', 'a', 'aa', 'aa']"
      ]
     },
     "execution_count": 27,
     "metadata": {},
     "output_type": "execute_result"
    }
   ],
   "source": [
    "import re\n",
    "pattern = r'foob([0-9]|a+)r'\n",
    "text = 'foob0r foob1r foobar foobaar foobaar'\n",
    "re.findall(pattern, text)"
   ]
  },
  {
   "attachments": {},
   "cell_type": "markdown",
   "metadata": {},
   "source": [
    "### Metacaracteres - memorias (backreferences) \n",
    "\n",
    "Los metacaracteres \\1 a \\9 son interpretados como memorias. \\<n> encuentra la subexpresión previamente encontrada #<n>. \n",
    "\n",
    "**Ejemplos**: \n",
    "\n",
    "(.)\\1+  --> encuentra 'aaaa' y 'cc'. "
   ]
  },
  {
   "cell_type": "code",
   "execution_count": 22,
   "metadata": {},
   "outputs": [
    {
     "data": {
      "text/plain": [
       "['a', 'b', 'c', 'd']"
      ]
     },
     "execution_count": 22,
     "metadata": {},
     "output_type": "execute_result"
    }
   ],
   "source": [
    "import re\n",
    "pattern = r'(.)\\1+'\n",
    "text = 'aaaa bbb cc ddddd ab'\n",
    "re.findall(pattern, text)"
   ]
  },
  {
   "attachments": {},
   "cell_type": "markdown",
   "metadata": {},
   "source": [
    "(.+)\\1+  --> también encuentra 'abab' y '123123'"
   ]
  },
  {
   "cell_type": "code",
   "execution_count": 23,
   "metadata": {},
   "outputs": [
    {
     "data": {
      "text/plain": [
       "['ab', '123', 'd', 'e']"
      ]
     },
     "execution_count": 23,
     "metadata": {},
     "output_type": "execute_result"
    }
   ],
   "source": [
    "import re\n",
    "pattern = r'(.+)\\1+'\n",
    "text = 'abab 123123 cddee'\n",
    "re.findall(pattern, text)"
   ]
  },
  {
   "attachments": {},
   "cell_type": "markdown",
   "metadata": {},
   "source": [
    "(['\"]?)(\\d+)\\1 --> encuentra '\"13\" (entre comillas dobles), o '4' (entre comillas simples) o 77 (sin comillas) etc. "
   ]
  },
  {
   "cell_type": "code",
   "execution_count": 24,
   "metadata": {},
   "outputs": [
    {
     "data": {
      "text/plain": [
       "[('', '13'), ('\"', '13'), (\"'\", '4'), ('', '77')]"
      ]
     },
     "execution_count": 24,
     "metadata": {},
     "output_type": "execute_result"
    }
   ],
   "source": [
    "import re\n",
    "pattern = r'([\"\\']?)(\\d+)\\1'\n",
    "text = '13 \"13\" \\'4\\' 77'\n",
    "re.findall(pattern, text)"
   ]
  },
  {
   "attachments": {},
   "cell_type": "markdown",
   "metadata": {},
   "source": [
    "## Más ejemplos de expresiones Regulares con Python\n",
    "\n",
    "Luego de esta introducción, llegó el tiempo de empezar a jugar con las **expresiones regulares** y **Python**.\n"
   ]
  },
  {
   "cell_type": "code",
   "execution_count": 1,
   "metadata": {
    "collapsed": true
   },
   "outputs": [],
   "source": [
    "# importamos el modulo de regex de python\n",
    "import re  "
   ]
  },
  {
   "attachments": {},
   "cell_type": "markdown",
   "metadata": {
    "collapsed": true
   },
   "source": [
    "### Buscando coincidencias\n",
    "\n",
    "En los siguientes ejemplos vamos a usar la funcion `compile` parabuscar coincidencias con un determinado patrón de búsqueda. Esta funcion lo que hace es compilar nuestra expresion regularen un *objeto de patrones de Python*, el cual posee métodos para diversas operaciones, tales como la búsqueda de coincidencias de patrones o realizar sustituciones de texto."
   ]
  },
  {
   "cell_type": "code",
   "execution_count": 30,
   "metadata": {
    "collapsed": true
   },
   "outputs": [],
   "source": [
    "# compilando la regex\n",
    "patron = re.compile(r'\\bfoo\\b')  # busca la palabra foo"
   ]
  },
  {
   "attachments": {},
   "cell_type": "markdown",
   "metadata": {
    "collapsed": true
   },
   "source": [
    "Ahora que ya tenemos el *objeto de expresión regular* compilado podemos utilizar alguno de los siguientes métodos para buscar coincidencias con nuestro texto.\n",
    "\n",
    "* **match()**: El cual determinada si la regex tiene coincidencias en el comienzo del texto.\n",
    "* **search()**: El cual escanea todo el texto buscando cualquier ubicación donde haya una coincidencia.\n",
    "* **findall()**: El cual encuentra todos los subtextos donde haya una coincidencia y nos devuelve estas coincidencias como una lista.\n",
    "* **finditer()**: El cual es similar al anterior pero en lugar de devolvernos una lista nos devuelve un iterador.\n",
    "\n",
    "Veamoslos en acción."
   ]
  },
  {
   "cell_type": "code",
   "execution_count": 31,
   "metadata": {
    "collapsed": false
   },
   "outputs": [],
   "source": [
    "# texto de entrada\n",
    "texto = \"\"\" bar foo bar\n",
    "foo barbarfoo\n",
    "foofoo foo bar\n",
    "\"\"\""
   ]
  },
  {
   "cell_type": "code",
   "execution_count": 32,
   "metadata": {
    "collapsed": false
   },
   "outputs": [
    {
     "name": "stdout",
     "output_type": "stream",
     "text": [
      "None\n"
     ]
    }
   ],
   "source": [
    "# match nos devuelve None porque no hubo coincidencia al comienzo del texto\n",
    "print(patron.match(texto))"
   ]
  },
  {
   "cell_type": "code",
   "execution_count": 33,
   "metadata": {
    "collapsed": false
   },
   "outputs": [
    {
     "data": {
      "text/plain": [
       "<re.Match object; span=(0, 3), match='foo'>"
      ]
     },
     "execution_count": 33,
     "metadata": {},
     "output_type": "execute_result"
    }
   ],
   "source": [
    "# match encuentra una coindencia en el comienzo del texto\n",
    "m = patron.match('foo bar')\n",
    "m"
   ]
  },
  {
   "cell_type": "code",
   "execution_count": 34,
   "metadata": {
    "collapsed": false
   },
   "outputs": [
    {
     "data": {
      "text/plain": [
       "<re.Match object; span=(5, 8), match='foo'>"
      ]
     },
     "execution_count": 34,
     "metadata": {},
     "output_type": "execute_result"
    }
   ],
   "source": [
    "# search nos devuelve la coincidencia en cualquier ubicacion.\n",
    "s = patron.search(texto)\n",
    "s"
   ]
  },
  {
   "cell_type": "code",
   "execution_count": 35,
   "metadata": {
    "collapsed": false
   },
   "outputs": [
    {
     "data": {
      "text/plain": [
       "['foo', 'foo', 'foo']"
      ]
     },
     "execution_count": 35,
     "metadata": {},
     "output_type": "execute_result"
    }
   ],
   "source": [
    "# findall nos devuelve una lista con todas las coincidencias\n",
    "fa = patron.findall(texto)\n",
    "fa"
   ]
  },
  {
   "cell_type": "code",
   "execution_count": 36,
   "metadata": {
    "collapsed": false
   },
   "outputs": [
    {
     "data": {
      "text/plain": [
       "<callable_iterator at 0x1617784ccd0>"
      ]
     },
     "execution_count": 36,
     "metadata": {},
     "output_type": "execute_result"
    }
   ],
   "source": [
    "# finditer nos devuelve un iterador\n",
    "fi = patron.finditer(texto)\n",
    "fi"
   ]
  },
  {
   "cell_type": "code",
   "execution_count": 37,
   "metadata": {
    "collapsed": false
   },
   "outputs": [
    {
     "data": {
      "text/plain": [
       "<re.Match object; span=(5, 8), match='foo'>"
      ]
     },
     "execution_count": 37,
     "metadata": {},
     "output_type": "execute_result"
    }
   ],
   "source": [
    "# iterando por las distintas coincidencias\n",
    "next(fi)"
   ]
  },
  {
   "cell_type": "code",
   "execution_count": 38,
   "metadata": {
    "collapsed": false
   },
   "outputs": [
    {
     "data": {
      "text/plain": [
       "<re.Match object; span=(13, 16), match='foo'>"
      ]
     },
     "execution_count": 38,
     "metadata": {},
     "output_type": "execute_result"
    }
   ],
   "source": [
    "next(fi)"
   ]
  },
  {
   "attachments": {},
   "cell_type": "markdown",
   "metadata": {
    "collapsed": true
   },
   "source": [
    "Como podemos ver en estos ejemplos, cuando hay coincidencias, Python nos devuelve un *Objeto de coincidencia* (salvo por el método `findall()` que devuelve una lista). Este *Objeto de coincidencia* también tiene sus propios métodos que nos proporcionan información adicional sobre la coincidencia; éstos métodos son:\n",
    "\n",
    "* **group()**: El cual devuelve el texto que coincide con la expresion regular.\n",
    "* **start()**: El cual devuelve la posición inicial de la coincidencia.\n",
    "* **end()**: El cual devuelve la posición final de la coincidencia.\n",
    "* **span()**: El cual devuelve una tupla con la posición inicial y final de la coincidencia."
   ]
  },
  {
   "cell_type": "code",
   "execution_count": 39,
   "metadata": {
    "collapsed": false
   },
   "outputs": [
    {
     "data": {
      "text/plain": [
       "('foo', 0, 3, (0, 3))"
      ]
     },
     "execution_count": 39,
     "metadata": {},
     "output_type": "execute_result"
    }
   ],
   "source": [
    "# Métodos del objeto de coincidencia\n",
    "m.group(), m.start(), m.end(), m.span()"
   ]
  },
  {
   "cell_type": "code",
   "execution_count": 40,
   "metadata": {
    "collapsed": false
   },
   "outputs": [
    {
     "data": {
      "text/plain": [
       "('foo', 5, 8, (5, 8))"
      ]
     },
     "execution_count": 40,
     "metadata": {},
     "output_type": "execute_result"
    }
   ],
   "source": [
    "s.group(), s.start(), s.end(), s.span()"
   ]
  },
  {
   "attachments": {},
   "cell_type": "markdown",
   "metadata": {},
   "source": [
    "### Modificando el texto de entrada\n",
    "\n",
    "Además de buscar coincidencias de nuestro patrón de búsqueda en un texto, podemos utilizar ese mismo patrón para realizar modificaciones al texto de entrada. Para estos casos podemos utilizar los siguientes métodos:\n",
    "\n",
    "* **split()**:\tEl cual divide el texto en una lista, realizando las divisiones del texto en cada lugar donde se cumple con la expresion regular.\n",
    "* **sub()**: El cual encuentra todos los subtextos donde existe una coincidencia con la expresion regular y luego los reemplaza con un nuevo texto.\n",
    "* **subn()**: El cual es similar al anterior pero además de devolver el nuevo texto, también devuelve el numero de reemplazos que realizó.\n",
    "\n",
    "Veamoslos en acción."
   ]
  },
  {
   "cell_type": "code",
   "execution_count": 41,
   "metadata": {
    "collapsed": true
   },
   "outputs": [],
   "source": [
    "# texto de entrada\n",
    "becquer = \"\"\"Podrá nublarse el sol eternamente; \n",
    "Podrá secarse en un instante el mar; \n",
    "Podrá romperse el eje de la tierra \n",
    "como un débil cristal. \n",
    "¡todo sucederá! Podrá la muerte \n",
    "cubrirme con su fúnebre crespón; \n",
    "Pero jamás en mí podrá apagarse \n",
    "la llama de tu amor.\"\"\""
   ]
  },
  {
   "cell_type": "code",
   "execution_count": 42,
   "metadata": {
    "collapsed": true
   },
   "outputs": [],
   "source": [
    "# patron para dividir donde no encuentre un caracter alfanumerico\n",
    "patron = re.compile(r'\\W+')"
   ]
  },
  {
   "cell_type": "code",
   "execution_count": 43,
   "metadata": {
    "collapsed": false
   },
   "outputs": [
    {
     "data": {
      "text/plain": [
       "['Podrá',\n",
       " 'nublarse',\n",
       " 'el',\n",
       " 'sol',\n",
       " 'eternamente',\n",
       " 'Podrá',\n",
       " 'secarse',\n",
       " 'en',\n",
       " 'un',\n",
       " 'instante']"
      ]
     },
     "execution_count": 43,
     "metadata": {},
     "output_type": "execute_result"
    }
   ],
   "source": [
    "palabras = patron.split(becquer)\n",
    "palabras[:10]  # 10 primeras palabras"
   ]
  },
  {
   "cell_type": "code",
   "execution_count": 44,
   "metadata": {
    "collapsed": false
   },
   "outputs": [
    {
     "data": {
      "text/plain": [
       "['Podrá nublarse el sol eternamente; ',\n",
       " 'Podrá secarse en un instante el mar; ',\n",
       " 'Podrá romperse el eje de la tierra ',\n",
       " 'como un débil cristal. ',\n",
       " '¡todo sucederá! Podrá la muerte ',\n",
       " 'cubrirme con su fúnebre crespón; ',\n",
       " 'Pero jamás en mí podrá apagarse ',\n",
       " 'la llama de tu amor.']"
      ]
     },
     "execution_count": 44,
     "metadata": {},
     "output_type": "execute_result"
    }
   ],
   "source": [
    "# Utilizando la version no compilada de split.\n",
    "re.split(r'\\n', becquer)  # Dividiendo por linea."
   ]
  },
  {
   "cell_type": "code",
   "execution_count": 45,
   "metadata": {
    "collapsed": false
   },
   "outputs": [
    {
     "data": {
      "text/plain": [
       "['Podrá',\n",
       " 'nublarse',\n",
       " 'el',\n",
       " 'sol',\n",
       " 'eternamente',\n",
       " 'Podrá secarse en un instante el mar; \\nPodrá romperse el eje de la tierra \\ncomo un débil cristal. \\n¡todo sucederá! Podrá la muerte \\ncubrirme con su fúnebre crespón; \\nPero jamás en mí podrá apagarse \\nla llama de tu amor.']"
      ]
     },
     "execution_count": 45,
     "metadata": {},
     "output_type": "execute_result"
    }
   ],
   "source": [
    "# Utilizando el tope de divisiones\n",
    "patron.split(becquer, 5)"
   ]
  },
  {
   "cell_type": "code",
   "execution_count": 46,
   "metadata": {
    "collapsed": false
   },
   "outputs": [
    {
     "name": "stdout",
     "output_type": "stream",
     "text": [
      "Puede nublarse el sol eternamente; \n",
      "Puede secarse en un instante el mar; \n",
      "Puede romperse el eje de la tierra \n",
      "como un débil cristal. \n",
      "¡todo sucederá! Puede la muerte \n",
      "cubrirme con su fúnebre crespón; \n",
      "Pero jamás en mí Puede apagarse \n",
      "la llama de tu amor.\n"
     ]
    }
   ],
   "source": [
    "# Cambiando \"Podrá\" o \"podra\" por \"Puede\"\n",
    "podra = re.compile(r'\\b(P|p)odrá\\b')\n",
    "puede = podra.sub(\"Puede\", becquer)\n",
    "print(puede)"
   ]
  },
  {
   "cell_type": "code",
   "execution_count": 47,
   "metadata": {
    "collapsed": false
   },
   "outputs": [
    {
     "name": "stdout",
     "output_type": "stream",
     "text": [
      "Puede nublarse el sol eternamente; \n",
      "Puede secarse en un instante el mar; \n",
      "Podrá romperse el eje de la tierra \n",
      "como un débil cristal. \n",
      "¡todo sucederá! Podrá la muerte \n",
      "cubrirme con su fúnebre crespón; \n",
      "Pero jamás en mí podrá apagarse \n",
      "la llama de tu amor.\n"
     ]
    }
   ],
   "source": [
    "# Limitando el número de reemplazos\n",
    "puede = podra.sub(\"Puede\", becquer, 2)\n",
    "print(puede)"
   ]
  },
  {
   "cell_type": "code",
   "execution_count": 48,
   "metadata": {
    "collapsed": false
   },
   "outputs": [
    {
     "data": {
      "text/plain": [
       "('Puede nublarse el sol eternamente; \\nPuede secarse en un instante el mar; \\nPuede romperse el eje de la tierra \\ncomo un débil cristal. \\n¡todo sucederá! Puede la muerte \\ncubrirme con su fúnebre crespón; \\nPero jamás en mí Puede apagarse \\nla llama de tu amor.',\n",
       " 5)"
      ]
     },
     "execution_count": 48,
     "metadata": {},
     "output_type": "execute_result"
    }
   ],
   "source": [
    "# Utilizando la version no compilada de subn\n",
    "re.subn(r'\\b(P|p)odrá\\b', \"Puede\", becquer)  # se realizaron 5 reemplazos"
   ]
  },
  {
   "attachments": {},
   "cell_type": "markdown",
   "metadata": {},
   "source": [
    "### Funciones no compiladas\n",
    "\n",
    "En estos últimos ejemplos, pudimos ver casos donde utilizamos las funciones al nivel del módulo `split()` y `subn()`. Para cada uno de los ejemplos que vimos (match, search, findall, finditer, split, sub y subn) existe una versión al nivel del módulo que se puede utilizar sin necesidad de compilar primero el patrón de búsqueda; simplemente le pasamos como primer argumento la expresion regular y el resultado será el mismo. La ventaja que tiene la versión compila sobre las funciones no compiladas es que si vamos a utilizar la expresion regular dentro de un *bucle* nos vamos a ahorrar varias llamadas de funciones y por lo tanto mejorar la performance de nuestro programa."
   ]
  },
  {
   "cell_type": "code",
   "execution_count": 49,
   "metadata": {
    "collapsed": false
   },
   "outputs": [
    {
     "data": {
      "text/plain": [
       "['foo', 'foo', 'foo']"
      ]
     },
     "execution_count": 49,
     "metadata": {},
     "output_type": "execute_result"
    }
   ],
   "source": [
    "# Ejemplo de findall con la funcion a nivel del modulo\n",
    "# findall nos devuelve una lista con todas las coincidencias\n",
    "re.findall(r'\\bfoo\\b', texto)"
   ]
  },
  {
   "attachments": {},
   "cell_type": "markdown",
   "metadata": {},
   "source": [
    "### Banderas de compilación\n",
    "\n",
    "Las banderas de compilación permiten modificar algunos aspectos de cómo funcionan las expresiones regulares. Todas ellas están disponibles en el módulo `re` bajo dos nombres, un nombre largo como IGNORECASE y una forma abreviada de una sola letra como I. Múltiples banderas pueden ser especificadas utilizando el operador \"|\" OR; Por ejemplo, re.I | RE.M establece las banderas de E y M. \n",
    "\n",
    "Algunas de las banderas de compilación que podemos encontrar son:\n",
    "\n",
    "* **IGNORECASE, I**: Para realizar búsquedas sin tener en cuenta las minúsculas o mayúsculas.\n",
    "* **VERBOSE, X**: Que habilita la modo verborrágico, el cual permite organizar el patrón de búsqueda de una forma que sea más sencilla de entender y leer.\n",
    "* **ASCII, A**: Que hace que las secuencias de escape \\w, \\b, \\s and \\d funciones para coincidencias con los caracteres ASCII.\n",
    "* **DOTALL, S**: La cual hace que el metacaracter . funcione para cualquier caracter, incluyendo el las líneas nuevas.\n",
    "* **LOCALE, L**: Esta opción hace que \\w, \\W, \\b, \\B, \\s, y \\S dependientes de la localización actual.\n",
    "* **MULTILINE, M**: Que habilita la coincidencia en múltiples líneas, afectando el funcionamiento de los metacaracteres ^ and $."
   ]
  },
  {
   "cell_type": "code",
   "execution_count": 50,
   "metadata": {
    "collapsed": false
   },
   "outputs": [
    {
     "name": "stdout",
     "output_type": "stream",
     "text": [
      "puede nublarse el sol eternamente; \n",
      "puede secarse en un instante el mar; \n",
      "puede romperse el eje de la tierra \n",
      "como un débil cristal. \n",
      "¡todo sucederá! puede la muerte \n",
      "cubrirme con su fúnebre crespón; \n",
      "Pero jamás en mí puede apagarse \n",
      "la llama de tu amor.\n"
     ]
    }
   ],
   "source": [
    "# Ejemplo de IGNORECASE\n",
    "# Cambiando \"Podrá\" o \"podra\" por \"Puede\"\n",
    "podra = re.compile(r'podrá\\b', re.I)  # el patrón se vuelve más sencillo\n",
    "puede = podra.sub(\"puede\", becquer)\n",
    "print(puede)"
   ]
  },
  {
   "cell_type": "code",
   "execution_count": 51,
   "metadata": {
    "collapsed": true
   },
   "outputs": [],
   "source": [
    "# Ejemplo de VERBOSE\n",
    "mail = re.compile(r\"\"\"\n",
    "\\b             # comienzo de delimitador de palabra\n",
    "[\\w.%+-]       # usuario: Cualquier caracter alfanumerico mas los signos (.%+-)\n",
    "+@             # seguido de @\n",
    "[\\w.-]         # dominio: Cualquier caracter alfanumerico mas los signos (.-)\n",
    "+\\.            # seguido de .\n",
    "[a-zA-Z]{2,6}  # dominio de alto nivel: 2 a 6 letras en minúsculas o mayúsculas.\n",
    "\\b             # fin de delimitador de palabra\n",
    "\"\"\", re.X)"
   ]
  },
  {
   "cell_type": "code",
   "execution_count": 24,
   "metadata": {
    "collapsed": false
   },
   "outputs": [],
   "source": [
    "mails = \"\"\"raul.lopez@relopezbriega.com, Raul Lopez Briega,\n",
    "foo bar, relopezbriega@relopezbriega.com.ar, raul@github.io, \n",
    "http://relopezbriega.com.ar, http://relopezbriega.github.io, \n",
    "python@python, river@riverplate.com.ar, pythonAR@python.pythonAR\n",
    "\"\"\""
   ]
  },
  {
   "cell_type": "code",
   "execution_count": 25,
   "metadata": {
    "collapsed": false
   },
   "outputs": [
    {
     "data": {
      "text/plain": [
       "['raul.lopez@relopezbriega.com',\n",
       " 'relopezbriega@relopezbriega.com.ar',\n",
       " 'raul@github.io',\n",
       " 'river@riverplate.com.ar']"
      ]
     },
     "execution_count": 25,
     "metadata": {},
     "output_type": "execute_result"
    }
   ],
   "source": [
    "# filtrando los mails con estructura válida\n",
    "mail.findall(mails)"
   ]
  },
  {
   "attachments": {},
   "cell_type": "markdown",
   "metadata": {},
   "source": [
    "Como podemos ver en este último ejemplo, la opción VERBOSE puede ser muy util para que cualquier persona que lea nuestra expresion regular pueda entenderla más fácilmente."
   ]
  },
  {
   "attachments": {},
   "cell_type": "markdown",
   "metadata": {},
   "source": [
    "### Nombrando los grupos\n",
    "\n",
    "Otra de las funciones interesantes que nos ofrece el módulo `re` de `Python`; es la posibilidad de ponerle nombres a los grupos de nuestras expresiones regulares. Así por ejemplo, en lugar de acceder a los grupos por sus índices, como en este caso..."
   ]
  },
  {
   "cell_type": "code",
   "execution_count": 52,
   "metadata": {
    "collapsed": true
   },
   "outputs": [],
   "source": [
    "# Accediendo a los grupos por sus indices\n",
    "patron = re.compile(r\"(\\w+) (\\w+)\")\n",
    "s = patron.search(\"Raul Lopez\")"
   ]
  },
  {
   "cell_type": "code",
   "execution_count": 53,
   "metadata": {
    "collapsed": false
   },
   "outputs": [
    {
     "data": {
      "text/plain": [
       "'Raul'"
      ]
     },
     "execution_count": 53,
     "metadata": {},
     "output_type": "execute_result"
    }
   ],
   "source": [
    "# grupo 1\n",
    "s.group(1)"
   ]
  },
  {
   "cell_type": "code",
   "execution_count": 54,
   "metadata": {
    "collapsed": false
   },
   "outputs": [
    {
     "data": {
      "text/plain": [
       "'Lopez'"
      ]
     },
     "execution_count": 54,
     "metadata": {},
     "output_type": "execute_result"
    }
   ],
   "source": [
    "# grupo 2\n",
    "s.group(2)"
   ]
  },
  {
   "attachments": {},
   "cell_type": "markdown",
   "metadata": {},
   "source": [
    "Podemos utilizar la sintaxis especial `(?P<nombre>patron)` para nombrar estos grupos y que sea más fácil identificarlos."
   ]
  },
  {
   "cell_type": "code",
   "execution_count": 55,
   "metadata": {
    "collapsed": true
   },
   "outputs": [],
   "source": [
    "# Accediendo a los grupos por nombres\n",
    "patron = re.compile(r\"(?P<nombre>\\w+) (?P<apellido>\\w+)\")\n",
    "s = patron.search(\"Raul Lopez\")"
   ]
  },
  {
   "cell_type": "code",
   "execution_count": 56,
   "metadata": {
    "collapsed": false
   },
   "outputs": [
    {
     "data": {
      "text/plain": [
       "'Raul'"
      ]
     },
     "execution_count": 56,
     "metadata": {},
     "output_type": "execute_result"
    }
   ],
   "source": [
    "# grupo nombre\n",
    "s.group(\"nombre\")"
   ]
  },
  {
   "cell_type": "code",
   "execution_count": 57,
   "metadata": {
    "collapsed": false
   },
   "outputs": [
    {
     "data": {
      "text/plain": [
       "'Lopez'"
      ]
     },
     "execution_count": 57,
     "metadata": {},
     "output_type": "execute_result"
    }
   ],
   "source": [
    "# grupo apellido\n",
    "s.group(\"apellido\")"
   ]
  },
  {
   "attachments": {},
   "cell_type": "markdown",
   "metadata": {},
   "source": [
    "## Otros ejemplos de expresiones regulares\n",
    "\n",
    "Por último, para ir cerrando esta introducción a las expresiones regulares, les dejo algunos ejemplos de las expresiones regulares más utilizadas.\n",
    "\n",
    "### Validando mails\n",
    "\n",
    "Para validar que un mail tenga la estructura correcta, podemos utilizar la siguiente expresion regular:\n",
    "\n",
    "**regex**: `\\b[\\w.%+-]+@[\\w.-]+\\.[a-zA-Z]{2,6}\\b`\n",
    "\n",
    "Este es el patrón que utilizamos en el ejemplo de la opción VERBOSE.\n",
    "\n",
    "### Validando una URL\n",
    "\n",
    "Para validar que una URL tenga una estructura correcta, podemos utilizar esta expresion regular:\n",
    "\n",
    "**regex**: `^(https?:\\/\\/)?([\\da-z\\.-]+)\\.([a-z\\.]{2,6})([\\/\\w \\.-]*)*\\/?$`"
   ]
  },
  {
   "cell_type": "code",
   "execution_count": 32,
   "metadata": {
    "collapsed": false
   },
   "outputs": [
    {
     "data": {
      "text/plain": [
       "<_sre.SRE_Match object; span=(0, 27), match='http://relopezbriega.com.ar'>"
      ]
     },
     "execution_count": 32,
     "metadata": {},
     "output_type": "execute_result"
    }
   ],
   "source": [
    "# Validando una URL\n",
    "url = re.compile(r\"^(https?:\\/\\/)?([\\da-z\\.-]+)\\.([a-z\\.]{2,6})([\\/\\w \\.-]*)*\\/?$\")\n",
    "\n",
    "# vemos que http://relopezbriega.com.ar lo acepta como una url válida.\n",
    "url.search(\"http://relopezbriega.com.ar\")"
   ]
  },
  {
   "cell_type": "code",
   "execution_count": 33,
   "metadata": {
    "collapsed": false
   },
   "outputs": [
    {
     "name": "stdout",
     "output_type": "stream",
     "text": [
      "None\n"
     ]
    }
   ],
   "source": [
    "# pero http://google.com/un/archivo!.html no la acepta por el carcter !\n",
    "print(url.search(\"http://google.com/un/archivo!.html\"))"
   ]
  },
  {
   "attachments": {},
   "cell_type": "markdown",
   "metadata": {},
   "source": [
    "### Validando una dirección IP\n",
    "\n",
    "Para validar que una dirección IP tenga una estructura correcta, podemos utilizar esta expresión regular:\n",
    "\n",
    "**regex**: `^(?:(?:25[0-5]|2[0-4][0-9]|[01]?[0-9][0-9]?)\\.){3}(?:25[0-5]|2[0-4][0-9]|[01]?[0-9][0-9]?)$`"
   ]
  },
  {
   "cell_type": "code",
   "execution_count": 34,
   "metadata": {
    "collapsed": false
   },
   "outputs": [
    {
     "data": {
      "text/plain": [
       "<_sre.SRE_Match object; span=(0, 13), match='73.60.124.136'>"
      ]
     },
     "execution_count": 34,
     "metadata": {},
     "output_type": "execute_result"
    }
   ],
   "source": [
    "# Validando una dirección IP\n",
    "patron = ('^(?:(?:25[0-5]|2[0-4][0-9]|'\n",
    "          '[01]?[0-9][0-9]?)\\.){3}'\n",
    "          '(?:25[0-5]|2[0-4][0-9]|[01]?[0-9][0-9]?)$')\n",
    "\n",
    "ip = re.compile(patron)\n",
    "\n",
    "# la ip 73.60.124.136 es valida\n",
    "ip.search(\"73.60.124.136\")"
   ]
  },
  {
   "cell_type": "code",
   "execution_count": 35,
   "metadata": {
    "collapsed": false
   },
   "outputs": [
    {
     "name": "stdout",
     "output_type": "stream",
     "text": [
      "None\n"
     ]
    }
   ],
   "source": [
    "# pero la ip 256.60.124.136 no es valida\n",
    "print(ip.search(\"256.60.124.136\"))"
   ]
  },
  {
   "attachments": {},
   "cell_type": "markdown",
   "metadata": {},
   "source": [
    "### Validando una fecha\n",
    "\n",
    "Para validar que una fecha tenga una estructura dd/mm/yyyy, podemos utilizar esta expresión regular:\n",
    "\n",
    "**regex**: `^(0?[1-9]|[12][0-9]|3[01])/(0?[1-9]|1[012])/((19|20)\\d\\d)$`"
   ]
  },
  {
   "cell_type": "code",
   "execution_count": 36,
   "metadata": {
    "collapsed": false
   },
   "outputs": [
    {
     "data": {
      "text/plain": [
       "<_sre.SRE_Match object; span=(0, 10), match='13/02/1982'>"
      ]
     },
     "execution_count": 36,
     "metadata": {},
     "output_type": "execute_result"
    }
   ],
   "source": [
    "# Validando una fecha\n",
    "fecha = re.compile(r'^(0?[1-9]|[12][0-9]|3[01])/(0?[1-9]|1[012])/((19|20)\\d\\d)$')\n",
    "\n",
    "# validando 13/02/1982\n",
    "fecha.search(\"13/02/1982\")"
   ]
  },
  {
   "cell_type": "code",
   "execution_count": 37,
   "metadata": {
    "collapsed": false
   },
   "outputs": [
    {
     "name": "stdout",
     "output_type": "stream",
     "text": [
      "None\n"
     ]
    }
   ],
   "source": [
    "# no valida 13-02-1982\n",
    "print(fecha.search(\"13-02-1982\"))"
   ]
  },
  {
   "cell_type": "code",
   "execution_count": 38,
   "metadata": {
    "collapsed": false
   },
   "outputs": [
    {
     "name": "stdout",
     "output_type": "stream",
     "text": [
      "None\n"
     ]
    }
   ],
   "source": [
    "# no valida 32/12/2015\n",
    "print(fecha.search(\"32/12/2015\"))"
   ]
  },
  {
   "cell_type": "code",
   "execution_count": 39,
   "metadata": {
    "collapsed": false
   },
   "outputs": [
    {
     "name": "stdout",
     "output_type": "stream",
     "text": [
      "None\n"
     ]
    }
   ],
   "source": [
    "# no valida 30/14/2015\n",
    "print(fecha.search(\"30/14/2015\"))"
   ]
  },
  {
   "attachments": {},
   "cell_type": "markdown",
   "metadata": {},
   "source": [
    "## BONUS - Aplicacion en Pandas"
   ]
  },
  {
   "attachments": {},
   "cell_type": "markdown",
   "metadata": {},
   "source": [
    "Podeemos usar `str.replace()` aplicada a una columna de un dataframe o a una serie para reemplazar cada ocurrencia de patrón/regex en la Serie. Para usarla con regex hay que aclarar como argumento `regex = True`. Veamos algunos ejemplos"
   ]
  },
  {
   "cell_type": "code",
   "execution_count": 78,
   "metadata": {},
   "outputs": [
    {
     "data": {
      "text/html": [
       "<div>\n",
       "<style scoped>\n",
       "    .dataframe tbody tr th:only-of-type {\n",
       "        vertical-align: middle;\n",
       "    }\n",
       "\n",
       "    .dataframe tbody tr th {\n",
       "        vertical-align: top;\n",
       "    }\n",
       "\n",
       "    .dataframe thead th {\n",
       "        text-align: right;\n",
       "    }\n",
       "</style>\n",
       "<table border=\"1\" class=\"dataframe\">\n",
       "  <thead>\n",
       "    <tr style=\"text-align: right;\">\n",
       "      <th></th>\n",
       "      <th>columna 1</th>\n",
       "      <th>columna 2</th>\n",
       "      <th>columna 3</th>\n",
       "    </tr>\n",
       "  </thead>\n",
       "  <tbody>\n",
       "    <tr>\n",
       "      <th>0</th>\n",
       "      <td>foo</td>\n",
       "      <td>foo 123</td>\n",
       "      <td>One Two Three</td>\n",
       "    </tr>\n",
       "    <tr>\n",
       "      <th>1</th>\n",
       "      <td>fuz</td>\n",
       "      <td>bar baz</td>\n",
       "      <td>Fuz Bar Baz</td>\n",
       "    </tr>\n",
       "    <tr>\n",
       "      <th>2</th>\n",
       "      <td>NaN</td>\n",
       "      <td>NaN</td>\n",
       "      <td>Fuz fuz bar</td>\n",
       "    </tr>\n",
       "    <tr>\n",
       "      <th>3</th>\n",
       "      <td>fooo</td>\n",
       "      <td>foo 456</td>\n",
       "      <td>uno dos fuz</td>\n",
       "    </tr>\n",
       "    <tr>\n",
       "      <th>4</th>\n",
       "      <td>fuuz</td>\n",
       "      <td>bar baz</td>\n",
       "      <td>NaN</td>\n",
       "    </tr>\n",
       "  </tbody>\n",
       "</table>\n",
       "</div>"
      ],
      "text/plain": [
       "  columna 1 columna 2      columna 3\n",
       "0       foo   foo 123  One Two Three\n",
       "1       fuz   bar baz    Fuz Bar Baz\n",
       "2       NaN       NaN    Fuz fuz bar\n",
       "3      fooo   foo 456    uno dos fuz\n",
       "4      fuuz   bar baz            NaN"
      ]
     },
     "execution_count": 78,
     "metadata": {},
     "output_type": "execute_result"
    }
   ],
   "source": [
    "import pandas as pd\n",
    "import numpy as np\n",
    "import re\n",
    "\n",
    "dicc = {'columna 1': ['foo', 'fuz', np.nan, 'fooo', 'fuuz'],\n",
    "        'columna 2': ['foo 123', 'bar baz', np.nan, 'foo 456', 'bar baz'],\n",
    "        'columna 3': ['One Two Three', 'Fuz Bar Baz', 'Fuz fuz bar', 'uno dos fuz',np.nan]}\n",
    "\n",
    "df = pd.DataFrame(dicc)\n",
    "df"
   ]
  },
  {
   "attachments": {},
   "cell_type": "markdown",
   "metadata": {},
   "source": [
    "**Ejemplo 1: Reemplazar en la columna1 `f` y el caracter que le sigue por `ba`**"
   ]
  },
  {
   "cell_type": "code",
   "execution_count": 79,
   "metadata": {},
   "outputs": [
    {
     "data": {
      "text/plain": [
       "0     bao\n",
       "1     baz\n",
       "2     NaN\n",
       "3    baoo\n",
       "4    bauz\n",
       "Name: columna 1, dtype: object"
      ]
     },
     "execution_count": 79,
     "metadata": {},
     "output_type": "execute_result"
    }
   ],
   "source": [
    "df['columna 1'].str.replace('f.', 'ba', regex=True)"
   ]
  },
  {
   "cell_type": "code",
   "execution_count": 75,
   "metadata": {},
   "outputs": [
    {
     "data": {
      "text/html": [
       "<div>\n",
       "<style scoped>\n",
       "    .dataframe tbody tr th:only-of-type {\n",
       "        vertical-align: middle;\n",
       "    }\n",
       "\n",
       "    .dataframe tbody tr th {\n",
       "        vertical-align: top;\n",
       "    }\n",
       "\n",
       "    .dataframe thead th {\n",
       "        text-align: right;\n",
       "    }\n",
       "</style>\n",
       "<table border=\"1\" class=\"dataframe\">\n",
       "  <thead>\n",
       "    <tr style=\"text-align: right;\">\n",
       "      <th></th>\n",
       "      <th>columna 1</th>\n",
       "      <th>columna 2</th>\n",
       "      <th>columna 3</th>\n",
       "    </tr>\n",
       "  </thead>\n",
       "  <tbody>\n",
       "    <tr>\n",
       "      <th>0</th>\n",
       "      <td>bao</td>\n",
       "      <td>foo 123</td>\n",
       "      <td>One Two Three</td>\n",
       "    </tr>\n",
       "    <tr>\n",
       "      <th>1</th>\n",
       "      <td>baz</td>\n",
       "      <td>bar baz</td>\n",
       "      <td>Fuz Bar Baz</td>\n",
       "    </tr>\n",
       "    <tr>\n",
       "      <th>2</th>\n",
       "      <td>NaN</td>\n",
       "      <td>NaN</td>\n",
       "      <td>Fuz Fuz bar</td>\n",
       "    </tr>\n",
       "    <tr>\n",
       "      <th>3</th>\n",
       "      <td>baoo</td>\n",
       "      <td>foo 456</td>\n",
       "      <td>uno dos Fuz</td>\n",
       "    </tr>\n",
       "    <tr>\n",
       "      <th>4</th>\n",
       "      <td>bauz</td>\n",
       "      <td>bar baz</td>\n",
       "      <td>NaN</td>\n",
       "    </tr>\n",
       "  </tbody>\n",
       "</table>\n",
       "</div>"
      ],
      "text/plain": [
       "  columna 1 columna 2      columna 3\n",
       "0       bao   foo 123  One Two Three\n",
       "1       baz   bar baz    Fuz Bar Baz\n",
       "2       NaN       NaN    Fuz Fuz bar\n",
       "3      baoo   foo 456    uno dos Fuz\n",
       "4      bauz   bar baz            NaN"
      ]
     },
     "execution_count": 75,
     "metadata": {},
     "output_type": "execute_result"
    }
   ],
   "source": [
    "# Para aplicarlo realmente\n",
    "df['columna 1'] = df['columna 1'].str.replace('f.', 'ba', regex=True)\n",
    "df"
   ]
  },
  {
   "attachments": {},
   "cell_type": "markdown",
   "metadata": {},
   "source": [
    "**Ejemplo 2: Reemplazar en la columna 2  los numeros por `aaa`**"
   ]
  },
  {
   "cell_type": "code",
   "execution_count": 80,
   "metadata": {},
   "outputs": [
    {
     "data": {
      "text/html": [
       "<div>\n",
       "<style scoped>\n",
       "    .dataframe tbody tr th:only-of-type {\n",
       "        vertical-align: middle;\n",
       "    }\n",
       "\n",
       "    .dataframe tbody tr th {\n",
       "        vertical-align: top;\n",
       "    }\n",
       "\n",
       "    .dataframe thead th {\n",
       "        text-align: right;\n",
       "    }\n",
       "</style>\n",
       "<table border=\"1\" class=\"dataframe\">\n",
       "  <thead>\n",
       "    <tr style=\"text-align: right;\">\n",
       "      <th></th>\n",
       "      <th>columna 1</th>\n",
       "      <th>columna 2</th>\n",
       "      <th>columna 3</th>\n",
       "    </tr>\n",
       "  </thead>\n",
       "  <tbody>\n",
       "    <tr>\n",
       "      <th>0</th>\n",
       "      <td>foo</td>\n",
       "      <td>foo aaa</td>\n",
       "      <td>One Two Three</td>\n",
       "    </tr>\n",
       "    <tr>\n",
       "      <th>1</th>\n",
       "      <td>fuz</td>\n",
       "      <td>bar baz</td>\n",
       "      <td>Fuz Bar Baz</td>\n",
       "    </tr>\n",
       "    <tr>\n",
       "      <th>2</th>\n",
       "      <td>NaN</td>\n",
       "      <td>NaN</td>\n",
       "      <td>Fuz fuz bar</td>\n",
       "    </tr>\n",
       "    <tr>\n",
       "      <th>3</th>\n",
       "      <td>fooo</td>\n",
       "      <td>foo aaa</td>\n",
       "      <td>uno dos fuz</td>\n",
       "    </tr>\n",
       "    <tr>\n",
       "      <th>4</th>\n",
       "      <td>fuuz</td>\n",
       "      <td>bar baz</td>\n",
       "      <td>NaN</td>\n",
       "    </tr>\n",
       "  </tbody>\n",
       "</table>\n",
       "</div>"
      ],
      "text/plain": [
       "  columna 1 columna 2      columna 3\n",
       "0       foo   foo aaa  One Two Three\n",
       "1       fuz   bar baz    Fuz Bar Baz\n",
       "2       NaN       NaN    Fuz fuz bar\n",
       "3      fooo   foo aaa    uno dos fuz\n",
       "4      fuuz   bar baz            NaN"
      ]
     },
     "execution_count": 80,
     "metadata": {},
     "output_type": "execute_result"
    }
   ],
   "source": [
    "df['columna 2'] = df['columna 2'].str.replace('\\d+', 'aaa', regex=True)\n",
    "df"
   ]
  },
  {
   "attachments": {},
   "cell_type": "markdown",
   "metadata": {},
   "source": [
    "**Ejemplo 3: buscar la cadena \"FUZ\" en cualquier combinación de mayúsculas y minúsculas y reemplazarla con `bar`**\n",
    "\n",
    "En este caso usamos la bandera `re.IGNORECASE` en `True` para que busque tanto minúsculas como mayúsculas "
   ]
  },
  {
   "cell_type": "code",
   "execution_count": 81,
   "metadata": {},
   "outputs": [
    {
     "data": {
      "text/html": [
       "<div>\n",
       "<style scoped>\n",
       "    .dataframe tbody tr th:only-of-type {\n",
       "        vertical-align: middle;\n",
       "    }\n",
       "\n",
       "    .dataframe tbody tr th {\n",
       "        vertical-align: top;\n",
       "    }\n",
       "\n",
       "    .dataframe thead th {\n",
       "        text-align: right;\n",
       "    }\n",
       "</style>\n",
       "<table border=\"1\" class=\"dataframe\">\n",
       "  <thead>\n",
       "    <tr style=\"text-align: right;\">\n",
       "      <th></th>\n",
       "      <th>columna 1</th>\n",
       "      <th>columna 2</th>\n",
       "      <th>columna 3</th>\n",
       "    </tr>\n",
       "  </thead>\n",
       "  <tbody>\n",
       "    <tr>\n",
       "      <th>0</th>\n",
       "      <td>foo</td>\n",
       "      <td>foo aaa</td>\n",
       "      <td>One Two Three</td>\n",
       "    </tr>\n",
       "    <tr>\n",
       "      <th>1</th>\n",
       "      <td>fuz</td>\n",
       "      <td>bar baz</td>\n",
       "      <td>bar Bar Baz</td>\n",
       "    </tr>\n",
       "    <tr>\n",
       "      <th>2</th>\n",
       "      <td>NaN</td>\n",
       "      <td>NaN</td>\n",
       "      <td>bar bar bar</td>\n",
       "    </tr>\n",
       "    <tr>\n",
       "      <th>3</th>\n",
       "      <td>fooo</td>\n",
       "      <td>foo aaa</td>\n",
       "      <td>uno dos bar</td>\n",
       "    </tr>\n",
       "    <tr>\n",
       "      <th>4</th>\n",
       "      <td>fuuz</td>\n",
       "      <td>bar baz</td>\n",
       "      <td>NaN</td>\n",
       "    </tr>\n",
       "  </tbody>\n",
       "</table>\n",
       "</div>"
      ],
      "text/plain": [
       "  columna 1 columna 2      columna 3\n",
       "0       foo   foo aaa  One Two Three\n",
       "1       fuz   bar baz    bar Bar Baz\n",
       "2       NaN       NaN    bar bar bar\n",
       "3      fooo   foo aaa    uno dos bar\n",
       "4      fuuz   bar baz            NaN"
      ]
     },
     "execution_count": 81,
     "metadata": {},
     "output_type": "execute_result"
    }
   ],
   "source": [
    "df['columna 3'] = df['columna 3'].str.replace('FUZ', 'bar', regex=True, flags=re.IGNORECASE)\n",
    "df"
   ]
  },
  {
   "attachments": {},
   "cell_type": "markdown",
   "metadata": {},
   "source": [
    "## Documentación Extra"
   ]
  },
  {
   "attachments": {},
   "cell_type": "markdown",
   "metadata": {},
   "source": [
    "Espero que esta guia les sea util. Les dejo aqui algunos links mas de interes:\n",
    "- [Documentacion Expresiones regulares COMOS (HOWTO)](https://docs.python.org/es/3/howto/regex.html)\n",
    "\n",
    "- [Python RegEx - w3schools](https://www.w3schools.com/python/python_regex.asp)\n",
    "\n",
    "- [Documentacion pandas.Series.str.replace](https://pandas.pydata.org/docs/reference/api/pandas.Series.str.replace.html)\n",
    "- Python Tutorial: re Module - How to Write and Match Regular Expressions (Regex) disponible en [Youtube](https://www.youtube.com/watch?v=K8L6KVGG-7o&t=2593s&ab_channel=CoreySchafer)\n",
    "\n",
    "- [Use ChatGPT to Build a Low Code RegEx Generator]('https://www.freecodecamp.org/news/use-chatgpt-to-build-a-regex-generator/)"
   ]
  }
 ],
 "metadata": {
  "kernelspec": {
   "display_name": "Python 3",
   "language": "python",
   "name": "python3"
  },
  "language_info": {
   "codemirror_mode": {
    "name": "ipython",
    "version": 3
   },
   "file_extension": ".py",
   "mimetype": "text/x-python",
   "name": "python",
   "nbconvert_exporter": "python",
   "pygments_lexer": "ipython3",
   "version": "3.10.5"
  }
 },
 "nbformat": 4,
 "nbformat_minor": 0
}
